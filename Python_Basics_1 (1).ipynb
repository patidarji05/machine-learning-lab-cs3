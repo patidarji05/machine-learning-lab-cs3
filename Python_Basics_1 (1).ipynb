{
  "nbformat": 4,
  "nbformat_minor": 0,
  "metadata": {
    "kernelspec": {
      "name": "python3",
      "display_name": "Python 3"
    },
    "language_info": {
      "mimetype": "text/x-python",
      "nbconvert_exporter": "python",
      "name": "python",
      "pygments_lexer": "ipython3",
      "version": "3.5.4",
      "file_extension": ".py",
      "codemirror_mode": {
        "version": 3,
        "name": "ipython"
      }
    },
    "colab": {
      "name": "Python_Basics_1.ipynb",
      "provenance": [],
      "collapsed_sections": []
    },
    "accelerator": "GPU"
  },
  "cells": [
    {
      "cell_type": "markdown",
      "metadata": {
        "id": "ek4PGqxdG5sk",
        "colab_type": "text"
      },
      "source": [
        "### print() function"
      ]
    },
    {
      "cell_type": "markdown",
      "metadata": {
        "id": "PtDg6KhQG5sn",
        "colab_type": "text"
      },
      "source": [
        "### Comments"
      ]
    },
    {
      "cell_type": "code",
      "metadata": {
        "trusted": true,
        "id": "opEi0UOgG5sp",
        "colab_type": "code",
        "outputId": "99922263-1db2-49b2-ad6f-3dbe9084edb8",
        "colab": {
          "base_uri": "https://localhost:8080/",
          "height": 34
        }
      },
      "source": [
        "# First Program\n",
        "print(\"Acropolis\")"
      ],
      "execution_count": 2,
      "outputs": [
        {
          "output_type": "stream",
          "text": [
            "Acropoli\n"
          ],
          "name": "stdout"
        }
      ]
    },
    {
      "cell_type": "markdown",
      "metadata": {
        "id": "-PwiE7I2G5sv",
        "colab_type": "text"
      },
      "source": [
        "### Variables"
      ]
    },
    {
      "cell_type": "code",
      "metadata": {
        "trusted": false,
        "id": "4h_N96TEG5sx",
        "colab_type": "code",
        "outputId": "9ef2badd-8f74-4063-96d7-14ba19e1df67",
        "colab": {
          "base_uri": "https://localhost:8080/",
          "height": 34
        }
      },
      "source": [
        "# In Python there is no need to mention the data type\n",
        "\n",
        "var1 = 20      # An integer assignment\n",
        "var2 = 4.123   # A floating point\n",
        "var3 = \"India\" # A string\n",
        "\n",
        "print(var1,' ',var2,' ',var3)"
      ],
      "execution_count": 6,
      "outputs": [
        {
          "output_type": "stream",
          "text": [
            "20   4.123   India\n"
          ],
          "name": "stdout"
        }
      ]
    },
    {
      "cell_type": "code",
      "metadata": {
        "id": "7XbOXJqOrw0e",
        "colab_type": "code",
        "outputId": "798bdcd1-dc55-4375-aed1-ef416ab8d4e5",
        "colab": {
          "base_uri": "https://localhost:8080/",
          "height": 34
        }
      },
      "source": [
        "pi=3.14\n",
        "print(pi*66)"
      ],
      "execution_count": 7,
      "outputs": [
        {
          "output_type": "stream",
          "text": [
            "207.24\n"
          ],
          "name": "stdout"
        }
      ]
    },
    {
      "cell_type": "code",
      "metadata": {
        "id": "T3bOEqiws4JB",
        "colab_type": "code",
        "colab": {}
      },
      "source": [
        ""
      ],
      "execution_count": 0,
      "outputs": []
    },
    {
      "cell_type": "markdown",
      "metadata": {
        "id": "OJjSBDPUG5s1",
        "colab_type": "text"
      },
      "source": [
        "### Assignment"
      ]
    },
    {
      "cell_type": "code",
      "metadata": {
        "scrolled": true,
        "trusted": false,
        "id": "D_J2d-iLG5s3",
        "colab_type": "code",
        "outputId": "9b8938da-2378-494d-9fed-4ea9cfc2cf1d",
        "colab": {
          "base_uri": "https://localhost:8080/",
          "height": 51
        }
      },
      "source": [
        "# general syntax\n",
        "#variable-name=value\n",
        "\n",
        "# Assigning same value to multiple variables\n",
        "\n",
        "var1 = var2 = var3 = 1\n",
        "print(var1,' ',var2,' ',var3)\n",
        "\n",
        "# Assigning Different values to variable in a single expression\n",
        "\n",
        "var1, var2, var3 = 1, 2.5, \"Rohit\"\n",
        "print(var1,' ',var2,' ',var3)\n",
        "\n",
        "# Note: commas can be used for multi-assignments"
      ],
      "execution_count": 8,
      "outputs": [
        {
          "output_type": "stream",
          "text": [
            "1   1   1\n",
            "1   2.5   Rohit\n"
          ],
          "name": "stdout"
        }
      ]
    },
    {
      "cell_type": "markdown",
      "metadata": {
        "id": "xDs1JHtIG5s8",
        "colab_type": "text"
      },
      "source": [
        "### Taking input"
      ]
    },
    {
      "cell_type": "code",
      "metadata": {
        "scrolled": true,
        "trusted": true,
        "id": "56pGA0vmG5s9",
        "colab_type": "code",
        "outputId": "eb34d90b-970e-440a-8edc-040e6fbe7c5c",
        "colab": {
          "base_uri": "https://localhost:8080/",
          "height": 68
        }
      },
      "source": [
        "firstname = input(\"Enter your first name: \")\n",
        "lastname = input(\"Enter your second name: \")\n",
        "semester = input(\"Enter your semester: \")"
      ],
      "execution_count": 9,
      "outputs": [
        {
          "output_type": "stream",
          "text": [
            "Enter your first name: pradeep\n",
            "Enter your second name: patidar\n",
            "Enter your semester: 6\n"
          ],
          "name": "stdout"
        }
      ]
    },
    {
      "cell_type": "code",
      "metadata": {
        "trusted": false,
        "id": "U3RV2XeRG5tD",
        "colab_type": "code",
        "outputId": "f31f9fc9-3125-4e32-9405-04d8a3cd345d",
        "colab": {
          "base_uri": "https://localhost:8080/",
          "height": 51
        }
      },
      "source": [
        "# run below code\n",
        "age = input(\"Enter your age: \")\n",
        "age = int(age)+5\n",
        "print(age)"
      ],
      "execution_count": 10,
      "outputs": [
        {
          "output_type": "stream",
          "text": [
            "Enter your age: 25\n",
            "30\n"
          ],
          "name": "stdout"
        }
      ]
    },
    {
      "cell_type": "markdown",
      "metadata": {
        "id": "MpWzqas4G5tH",
        "colab_type": "text"
      },
      "source": [
        "### Write a program in Python for data type conversion from: \n",
        "- int to string\n",
        "- int to float\n",
        "- string to int\n",
        "- string to float\n",
        "- float to int\n",
        "- float to string"
      ]
    },
    {
      "cell_type": "code",
      "metadata": {
        "trusted": false,
        "id": "EohYaD0jG5tJ",
        "colab_type": "code",
        "outputId": "cacca205-4a56-4801-ecc3-07e3df491e83",
        "colab": {
          "base_uri": "https://localhost:8080/",
          "height": 122
        }
      },
      "source": [
        "a=10\n",
        "print(str(a))\n",
        "print(float(a))\n",
        "\n",
        "b='20'\n",
        "print(int(b))\n",
        "print(float(b))\n",
        "\n",
        "c=23.56\n",
        "print(int(c))\n",
        "print(str(c))"
      ],
      "execution_count": 0,
      "outputs": [
        {
          "output_type": "stream",
          "text": [
            "10\n",
            "10.0\n",
            "20\n",
            "20.0\n",
            "23\n",
            "23.56\n"
          ],
          "name": "stdout"
        }
      ]
    },
    {
      "cell_type": "code",
      "metadata": {
        "id": "Cm6OOpPVuCYk",
        "colab_type": "code",
        "colab": {}
      },
      "source": [
        ""
      ],
      "execution_count": 0,
      "outputs": []
    },
    {
      "cell_type": "markdown",
      "metadata": {
        "id": "3SQpXHpgG5tN",
        "colab_type": "text"
      },
      "source": [
        "### Task1: \n",
        "#### WAP to display your infomation like (full name, branch, university name, age, 12th %, hobbies). Store each value into some meaningful variable.  the ouptput of the program should look like"
      ]
    },
    {
      "cell_type": "code",
      "metadata": {
        "trusted": false,
        "id": "NcmrqUkXG5tQ",
        "colab_type": "code",
        "outputId": "ae86a27b-6c86-44b3-b669-888a2eada5aa",
        "colab": {
          "base_uri": "https://localhost:8080/",
          "height": 221
        }
      },
      "source": [
        "\n",
        "fullname = input(\"Enter your full name: \")\n",
        "branch = input(\"Enter your branch: \")\n",
        "university = input(\"Enter your university: \")\n",
        "age = input(\"Enter your age: \")\n",
        "twelthper = input(\"Enter your 12%: \")\n",
        "hobbies = input(\"Enter your hobbies: \")\n",
        "print(fullname)\n",
        "print(branch)\n",
        "print(university)\n",
        "print(age)\n",
        "print(twelthper)\n",
        "print(hobbies)"
      ],
      "execution_count": 11,
      "outputs": [
        {
          "output_type": "stream",
          "text": [
            "Enter your full name: pradeep\n",
            "Enter your branch: cs\n",
            "Enter your university: rgpv\n",
            "Enter your age: 21\n",
            "Enter your 12%: 70\n",
            "Enter your hobbies: palying football\n",
            "pradeep\n",
            "cs\n",
            "rgpv\n",
            "21\n",
            "70\n",
            "palying football\n"
          ],
          "name": "stdout"
        }
      ]
    },
    {
      "cell_type": "markdown",
      "metadata": {
        "id": "aUn64sgNG5tU",
        "colab_type": "text"
      },
      "source": [
        "### Commmonly used functions \n",
        "- round(n)\n",
        "- format(n, '0.2f')\n",
        "- format(n,',') # put a comma on thousand place\n",
        "- format(n,'b') # print binary of the number, 'o', 'x'\n",
        "\n",
        "- eval(expression)\n",
        "- chr(n)\n",
        "- ord(character)\n",
        "- bin(n), oct(n), hex(n)\n",
        "\n",
        "- #### function on string/character data\n",
        "- isdigit()\n",
        "- isalpha()\n",
        "- isspace()\n",
        "- numeric()\n",
        "- ljust(width)\n",
        "- rjust(width)\n",
        "- cjust(width)"
      ]
    },
    {
      "cell_type": "code",
      "metadata": {
        "scrolled": true,
        "trusted": true,
        "id": "nkRXM4BJG5tV",
        "colab_type": "code",
        "outputId": "2ba4c9e8-2575-411a-a9b9-580aecafe0ea",
        "colab": {
          "base_uri": "https://localhost:8080/",
          "height": 68
        }
      },
      "source": [
        "# Python3 program to demonstarte \n",
        "# the str.format() method \n",
        "  \n",
        "# using format option in a simple string \n",
        "print (\"{}, A computer science portal for acropolis.\"\n",
        "                        .format(\"acropolis\")) \n",
        "  \n",
        "# using format option for a \n",
        "# value stored in a variable \n",
        "str = \"This article is written in {}\"\n",
        "print (str.format(\"Python\")) \n",
        "  \n",
        "# formatting a string using a numeric constant \n",
        "print (\"Hello, I am {} years old !\".format(20))  "
      ],
      "execution_count": 12,
      "outputs": [
        {
          "output_type": "stream",
          "text": [
            "acropolis, A computer science portal for acropolis.\n",
            "This article is written in Python\n",
            "Hello, I am 20 years old !\n"
          ],
          "name": "stdout"
        }
      ]
    },
    {
      "cell_type": "code",
      "metadata": {
        "trusted": false,
        "id": "m50gn_tsG5tb",
        "colab_type": "code",
        "outputId": "3c4bdeae-747f-4b62-a5d4-25849b0ec1b4",
        "colab": {
          "base_uri": "https://localhost:8080/",
          "height": 51
        }
      },
      "source": [
        "# Characters and their ASCII value\n",
        "\n",
        "x=68\n",
        "# print character corresponding to x \n",
        "print(chr(x))\n",
        "char='D'\n",
        "# print number corresponding to char\n",
        "print(ord(char))"
      ],
      "execution_count": 13,
      "outputs": [
        {
          "output_type": "stream",
          "text": [
            "D\n",
            "68\n"
          ],
          "name": "stdout"
        }
      ]
    },
    {
      "cell_type": "code",
      "metadata": {
        "trusted": true,
        "id": "b0mbEsRfG5tg",
        "colab_type": "code",
        "outputId": "2a855cdb-a2f4-4537-baf8-04836ef855fd",
        "colab": {
          "base_uri": "https://localhost:8080/",
          "height": 34
        }
      },
      "source": [
        "# write code to print your name 10 times\n",
        "print('ACROPOLIS'*10)"
      ],
      "execution_count": 14,
      "outputs": [
        {
          "output_type": "stream",
          "text": [
            "ACROPOLISACROPOLISACROPOLISACROPOLISACROPOLISACROPOLISACROPOLISACROPOLISACROPOLISACROPOLIS\n"
          ],
          "name": "stdout"
        }
      ]
    },
    {
      "cell_type": "code",
      "metadata": {
        "id": "yPyeKgiMuYZ9",
        "colab_type": "code",
        "colab": {
          "base_uri": "https://localhost:8080/",
          "height": 204
        },
        "outputId": "7380af20-db49-4dca-ee35-87de3be824d8"
      },
      "source": [
        "print('acropolic\\n'*10)"
      ],
      "execution_count": 25,
      "outputs": [
        {
          "output_type": "stream",
          "text": [
            "acropolic\n",
            "acropolic\n",
            "acropolic\n",
            "acropolic\n",
            "acropolic\n",
            "acropolic\n",
            "acropolic\n",
            "acropolic\n",
            "acropolic\n",
            "acropolic\n",
            "\n"
          ],
          "name": "stdout"
        }
      ]
    },
    {
      "cell_type": "code",
      "metadata": {
        "id": "3xuqVxvzvgKP",
        "colab_type": "code",
        "colab": {}
      },
      "source": [
        ""
      ],
      "execution_count": 0,
      "outputs": []
    },
    {
      "cell_type": "code",
      "metadata": {
        "trusted": true,
        "id": "HQhqPPfaG5tl",
        "colab_type": "code",
        "outputId": "19bf0ba3-5087-49df-d112-39dd5ab17140",
        "colab": {
          "base_uri": "https://localhost:8080/",
          "height": 204
        }
      },
      "source": [
        "for i in range(5):\n",
        "    print(\"*\"*i)\n",
        "\n",
        "# new pattern program\n",
        "print(\"\\n\")\n",
        "for i in range(4,0,-1):\n",
        "  print(\"*\"*i)    "
      ],
      "execution_count": 26,
      "outputs": [
        {
          "output_type": "stream",
          "text": [
            "\n",
            "*\n",
            "**\n",
            "***\n",
            "****\n",
            "\n",
            "\n",
            "****\n",
            "***\n",
            "**\n",
            "*\n"
          ],
          "name": "stdout"
        }
      ]
    },
    {
      "cell_type": "code",
      "metadata": {
        "id": "jajWb5Ijvhac",
        "colab_type": "code",
        "colab": {
          "base_uri": "https://localhost:8080/",
          "height": 714
        },
        "outputId": "dba974a2-d2ab-4aa6-cbd4-d2bf6e9d221d"
      },
      "source": [
        "for i in range(20):\n",
        "  print(\"*\"*i)\n",
        "print(\"\\n\")\n",
        "for i in range(19,0,-1):\n",
        "  print(\"*\"*i)"
      ],
      "execution_count": 35,
      "outputs": [
        {
          "output_type": "stream",
          "text": [
            "\n",
            "*\n",
            "**\n",
            "***\n",
            "****\n",
            "*****\n",
            "******\n",
            "*******\n",
            "********\n",
            "*********\n",
            "**********\n",
            "***********\n",
            "************\n",
            "*************\n",
            "**************\n",
            "***************\n",
            "****************\n",
            "*****************\n",
            "******************\n",
            "*******************\n",
            "\n",
            "\n",
            "*******************\n",
            "******************\n",
            "*****************\n",
            "****************\n",
            "***************\n",
            "**************\n",
            "*************\n",
            "************\n",
            "***********\n",
            "**********\n",
            "*********\n",
            "********\n",
            "*******\n",
            "******\n",
            "*****\n",
            "****\n",
            "***\n",
            "**\n",
            "*\n"
          ],
          "name": "stdout"
        }
      ]
    },
    {
      "cell_type": "code",
      "metadata": {
        "id": "3-9RKU1psovu",
        "colab_type": "code",
        "outputId": "ec92b1b5-f66f-46fd-e382-0f6d0939c3e8",
        "colab": {
          "base_uri": "https://localhost:8080/",
          "height": 102
        }
      },
      "source": [
        "for i in range(1,6):\n",
        "  print(\" \"*(6-i),\"*\"*i) "
      ],
      "execution_count": 29,
      "outputs": [
        {
          "output_type": "stream",
          "text": [
            "      *\n",
            "     **\n",
            "    ***\n",
            "   ****\n",
            "  *****\n"
          ],
          "name": "stdout"
        }
      ]
    },
    {
      "cell_type": "code",
      "metadata": {
        "trusted": true,
        "id": "v5QAgvn8G5tp",
        "colab_type": "code",
        "outputId": "3d8f4cd4-1f26-41fa-8e1c-4df1f484abc3",
        "colab": {
          "base_uri": "https://localhost:8080/",
          "height": 34
        }
      },
      "source": [
        "# use seperator and end with specific symbol\n",
        "a, b, c = 10, 20, 30\n",
        "print(a,b,c,sep=':',end=',')"
      ],
      "execution_count": 31,
      "outputs": [
        {
          "output_type": "stream",
          "text": [
            "10:20:30,"
          ],
          "name": "stdout"
        }
      ]
    },
    {
      "cell_type": "code",
      "metadata": {
        "id": "YdxS59NJwGuj",
        "colab_type": "code",
        "colab": {}
      },
      "source": [
        ""
      ],
      "execution_count": 0,
      "outputs": []
    },
    {
      "cell_type": "code",
      "metadata": {
        "trusted": true,
        "id": "IxLqu9XZG5tt",
        "colab_type": "code",
        "outputId": "e3a8267b-391c-4224-8733-09d2e82fd8be",
        "colab": {
          "base_uri": "https://localhost:8080/",
          "height": 87
        }
      },
      "source": [
        "for i in range(1,5):\n",
        "    print(\" \"*(5-i),\"*\"*i)"
      ],
      "execution_count": 0,
      "outputs": [
        {
          "output_type": "stream",
          "text": [
            "     *\n",
            "    **\n",
            "   ***\n",
            "  ****\n"
          ],
          "name": "stdout"
        }
      ]
    },
    {
      "cell_type": "code",
      "metadata": {
        "trusted": false,
        "id": "GFIBWQUtG5tx",
        "colab_type": "code",
        "outputId": "2bc0ee09-0837-4973-9972-4ef95b3f195e",
        "colab": {
          "base_uri": "https://localhost:8080/",
          "height": 34
        }
      },
      "source": [
        "# unpack characters\n",
        "word = 'acropo'\n",
        "a,b,c,d,e,f = word\n",
        "print(a,b,c,d,e,f)"
      ],
      "execution_count": 38,
      "outputs": [
        {
          "output_type": "stream",
          "text": [
            "a c r o p o\n"
          ],
          "name": "stdout"
        }
      ]
    },
    {
      "cell_type": "code",
      "metadata": {
        "id": "UaVTTCsNwsjJ",
        "colab_type": "code",
        "colab": {}
      },
      "source": [
        ""
      ],
      "execution_count": 0,
      "outputs": []
    },
    {
      "cell_type": "markdown",
      "metadata": {
        "id": "XOxjxinfG5t1",
        "colab_type": "text"
      },
      "source": [
        "### Format output"
      ]
    },
    {
      "cell_type": "code",
      "metadata": {
        "colab_type": "code",
        "id": "EJWEn5P4cfOd",
        "trusted": true,
        "outputId": "532f3cb0-cba5-4d72-d579-1d0fa993fe94",
        "colab": {
          "base_uri": "https://localhost:8080/",
          "height": 34
        }
      },
      "source": [
        "x = 5 \n",
        "y = 10\n",
        "print('The value of x is {} and y is {}'.format(x,y))"
      ],
      "execution_count": 39,
      "outputs": [
        {
          "output_type": "stream",
          "text": [
            "The value of x is 5 and y is 10\n"
          ],
          "name": "stdout"
        }
      ]
    },
    {
      "cell_type": "code",
      "metadata": {
        "scrolled": true,
        "trusted": false,
        "id": "rohJ0RmQG5t6",
        "colab_type": "code",
        "outputId": "1c0136f7-fa33-4173-c6d4-a950f29d8f85",
        "colab": {
          "base_uri": "https://localhost:8080/",
          "height": 34
        }
      },
      "source": [
        "print('I like {0} and {1}'.format('ice cream','chocolate'))"
      ],
      "execution_count": 40,
      "outputs": [
        {
          "output_type": "stream",
          "text": [
            "I like ice cream and chocolate\n"
          ],
          "name": "stdout"
        }
      ]
    },
    {
      "cell_type": "code",
      "metadata": {
        "scrolled": true,
        "trusted": false,
        "id": "ePTsWKD2G5t-",
        "colab_type": "code",
        "outputId": "fdbd5973-390c-4870-abd9-6e4629fa6510",
        "colab": {
          "base_uri": "https://localhost:8080/",
          "height": 34
        }
      },
      "source": [
        "print('I like {1} and {0}'.format('ice cream','chocolate'))"
      ],
      "execution_count": 41,
      "outputs": [
        {
          "output_type": "stream",
          "text": [
            "I like chocolate and ice cream\n"
          ],
          "name": "stdout"
        }
      ]
    },
    {
      "cell_type": "code",
      "metadata": {
        "scrolled": true,
        "trusted": false,
        "id": "MHagJ4n_G5uE",
        "colab_type": "code",
        "outputId": "7363206c-7c3e-45e6-dcdf-1518014c366c",
        "colab": {
          "base_uri": "https://localhost:8080/",
          "height": 34
        }
      },
      "source": [
        "print('Hello {name}, {greeting}'.format(greeting = 'Good morning', name = 'Sachin !'))"
      ],
      "execution_count": 42,
      "outputs": [
        {
          "output_type": "stream",
          "text": [
            "Hello Sachin !, Good morning\n"
          ],
          "name": "stdout"
        }
      ]
    },
    {
      "cell_type": "markdown",
      "metadata": {
        "id": "liwzGLgJG5uJ",
        "colab_type": "text"
      },
      "source": [
        "### Task2\n",
        "#### Raman likes tea but he has coffee. Riya likes coffee but has tea. Write a program in python so that both can enjoy what they like."
      ]
    },
    {
      "cell_type": "code",
      "metadata": {
        "trusted": false,
        "id": "KLT5upfKG5uK",
        "colab_type": "code",
        "outputId": "6a1a1322-604b-4a06-8fb0-f07de970ec1c",
        "colab": {
          "base_uri": "https://localhost:8080/",
          "height": 51
        }
      },
      "source": [
        "# write your code after this line\n",
        "raman='coffee'\n",
        "riya='tea'\n",
        "temp=raman\n",
        "raman=riya\n",
        "riya=temp\n",
        "print(\"raman :{}\".format(raman))\n",
        "print(\"riya :{}\".format(riya))"
      ],
      "execution_count": 43,
      "outputs": [
        {
          "output_type": "stream",
          "text": [
            "raman :tea\n",
            "riya :coffee\n"
          ],
          "name": "stdout"
        }
      ]
    },
    {
      "cell_type": "markdown",
      "metadata": {
        "heading_collapsed": true,
        "id": "S2j-VmN9G5uN",
        "colab_type": "text"
      },
      "source": [
        "### Task3\n",
        "Write a program for following\n",
        "- Input: 'Python'\n",
        "- Output: 642"
      ]
    },
    {
      "cell_type": "code",
      "metadata": {
        "hidden": true,
        "trusted": true,
        "id": "VEgfNycFG5uO",
        "colab_type": "code",
        "outputId": "472feae1-3d19-4fd0-d3c8-fc98f93707ef",
        "colab": {
          "base_uri": "https://localhost:8080/",
          "height": 34
        }
      },
      "source": [
        "e,f,g,h,i,j='Python'\n",
        "s=ord(e)+ord(f)+ord(g)+ord(h)+ord(i)+ord(j)\n",
        "print(s)"
      ],
      "execution_count": 44,
      "outputs": [
        {
          "output_type": "stream",
          "text": [
            "642\n"
          ],
          "name": "stdout"
        }
      ]
    },
    {
      "cell_type": "markdown",
      "metadata": {
        "id": "DjUR0ktSG5uR",
        "colab_type": "text"
      },
      "source": [
        "# Working with math, calendar, random, datetime"
      ]
    },
    {
      "cell_type": "code",
      "metadata": {
        "trusted": true,
        "id": "y8UbqGZ1G5uS",
        "colab_type": "code",
        "outputId": "404d103d-8ea8-4d3f-cb61-643e2e2d652c",
        "colab": {
          "base_uri": "https://localhost:8080/",
          "height": 85
        }
      },
      "source": [
        "import math\n",
        "print(math.sqrt(9))\n",
        "print(math.floor(10.8))\n",
        "print (math.ceil(10.5))\n",
        "math.pi\n"
      ],
      "execution_count": 45,
      "outputs": [
        {
          "output_type": "stream",
          "text": [
            "3.0\n",
            "10\n",
            "11\n"
          ],
          "name": "stdout"
        },
        {
          "output_type": "execute_result",
          "data": {
            "text/plain": [
              "3.141592653589793"
            ]
          },
          "metadata": {
            "tags": []
          },
          "execution_count": 45
        }
      ]
    },
    {
      "cell_type": "code",
      "metadata": {
        "trusted": false,
        "id": "9Sofw03xG5uW",
        "colab_type": "code",
        "outputId": "5c6eb46d-5deb-438c-c76b-86eccff54bcc",
        "colab": {
          "base_uri": "https://localhost:8080/",
          "height": 52
        }
      },
      "source": [
        "import random\n",
        "x = random.random() # generate any random number between 0 and 1\n",
        "print(\"x = \", x)\n",
        "\n",
        "y = random.randint(5,20)# generate any random number between 5 and 20\n",
        "print(\"y = \", y)"
      ],
      "execution_count": 0,
      "outputs": [
        {
          "output_type": "stream",
          "text": [
            "x =  0.5596432252409571\n",
            "y =  16\n"
          ],
          "name": "stdout"
        }
      ]
    },
    {
      "cell_type": "code",
      "metadata": {
        "trusted": false,
        "id": "zJhrO4MyG5uZ",
        "colab_type": "code",
        "outputId": "d76ed394-124e-4a5f-c044-b44e5d492011",
        "colab": {
          "base_uri": "https://localhost:8080/",
          "height": 87
        }
      },
      "source": [
        "import datetime\n",
        "\n",
        "date = datetime.datetime.now().date() # YYYY-MM-DD format\n",
        "year = datetime.datetime.now().year\n",
        "month = datetime.datetime.now().month\n",
        "day = datetime.datetime.now().day\n",
        "\n",
        "print(date)\n",
        "print(year)\n",
        "print(month)\n",
        "print(day)"
      ],
      "execution_count": 0,
      "outputs": [
        {
          "output_type": "stream",
          "text": [
            "2020-01-07\n",
            "2020\n",
            "1\n",
            "7\n"
          ],
          "name": "stdout"
        }
      ]
    },
    {
      "cell_type": "code",
      "metadata": {
        "scrolled": false,
        "trusted": true,
        "id": "cq9pMSf4G5uc",
        "colab_type": "code",
        "outputId": "258853b5-40ff-4796-dd30-0a52151f06fb",
        "colab": {
          "base_uri": "https://localhost:8080/",
          "height": 210
        }
      },
      "source": [
        "import calendar\n",
        "\n",
        "year = int(input(\"Enter Year : \"))\n",
        "month = int(input(\"Enter the Month : \"))\n",
        "\n",
        "print(calendar.month(year, month))"
      ],
      "execution_count": 0,
      "outputs": [
        {
          "output_type": "stream",
          "text": [
            "Enter Year : 2020\n",
            "Enter the Month : 11\n",
            "   November 2020\n",
            "Mo Tu We Th Fr Sa Su\n",
            "                   1\n",
            " 2  3  4  5  6  7  8\n",
            " 9 10 11 12 13 14 15\n",
            "16 17 18 19 20 21 22\n",
            "23 24 25 26 27 28 29\n",
            "30\n",
            "\n"
          ],
          "name": "stdout"
        }
      ]
    },
    {
      "cell_type": "markdown",
      "metadata": {
        "heading_collapsed": true,
        "id": "LF2GsLtJG5uf",
        "colab_type": "text"
      },
      "source": [
        "### Task 4\n",
        "#### WAP to justify the value of a number (right, left, center) in 20 chars with one digit accuracy. Use format() to print value of variable z (float) right justify in 30 chars with 3 digit accuracy."
      ]
    },
    {
      "cell_type": "code",
      "metadata": {
        "hidden": true,
        "trusted": false,
        "id": "11p2UvGWG5uj",
        "colab_type": "code",
        "outputId": "a35d43e5-ac79-4029-aca2-4c2b156f890f",
        "colab": {
          "base_uri": "https://localhost:8080/",
          "height": 238
        }
      },
      "source": [
        "x=15246.59\n",
        "y=14.156\n",
        "print(format(x,'>20.1f'))\n",
        "print(format(y,'>20.1f'))\n",
        "print(\"\\n\")\n",
        "\n",
        "print(format(x,'<20.1f'))\n",
        "print(format(y,'<20.1f'))\n",
        "print(\"\\n\")\n",
        "\n",
        "print(format(x,'^20.1f'))\n",
        "print(format(y,'^20.1f'))\n",
        "print(\"\\n\")\n",
        "\n",
        "z=20.745124\n",
        "print(format(z, '>30.3f'))"
      ],
      "execution_count": 46,
      "outputs": [
        {
          "output_type": "stream",
          "text": [
            "             15246.6\n",
            "                14.2\n",
            "\n",
            "\n",
            "15246.6             \n",
            "14.2                \n",
            "\n",
            "\n",
            "      15246.6       \n",
            "        14.2        \n",
            "\n",
            "\n",
            "                        20.745\n"
          ],
          "name": "stdout"
        }
      ]
    },
    {
      "cell_type": "code",
      "metadata": {
        "id": "-nTzI58dwwq-",
        "colab_type": "code",
        "colab": {}
      },
      "source": [
        ""
      ],
      "execution_count": 0,
      "outputs": []
    }
  ]
}